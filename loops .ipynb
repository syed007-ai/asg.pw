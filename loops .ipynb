{
 "cells": [
  {
   "cell_type": "markdown",
   "id": "09bbfd7b-bac9-4a17-96ef-0afdb6b5f4b6",
   "metadata": {},
   "source": [
    "Loops:\n",
    "1. while ():  loop\n",
    "2. for(): loop"
   ]
  },
  {
   "cell_type": "code",
   "execution_count": 3,
   "id": "dd319f6d-3fc7-4199-8eba-19f7a77b0f26",
   "metadata": {},
   "outputs": [],
   "source": [
    "l= [1,2,3,4,5,3,2,1,1231,3]\n",
    "#aap ek kaam karo, ye list ke har element ko 1 add kardo.\n"
   ]
  },
  {
   "cell_type": "code",
   "execution_count": 6,
   "id": "f3540b50-b172-4273-a2f8-39573c81f789",
   "metadata": {},
   "outputs": [
    {
     "data": {
      "text/plain": [
       "2"
      ]
     },
     "execution_count": 6,
     "metadata": {},
     "output_type": "execute_result"
    }
   ],
   "source": [
    "l[0] +1"
   ]
  },
  {
   "cell_type": "code",
   "execution_count": 8,
   "id": "679e1d16-2d93-44ce-add5-1d9f312f768f",
   "metadata": {},
   "outputs": [],
   "source": [
    "l1 = []"
   ]
  },
  {
   "cell_type": "code",
   "execution_count": 9,
   "id": "c41277b9-0922-487e-bd3d-d44787ddeaf6",
   "metadata": {},
   "outputs": [],
   "source": [
    "l1.append(l[0]+1)"
   ]
  },
  {
   "cell_type": "code",
   "execution_count": 10,
   "id": "620d484a-5455-410b-b80d-ecd8d4faee5a",
   "metadata": {},
   "outputs": [
    {
     "data": {
      "text/plain": [
       "[2]"
      ]
     },
     "execution_count": 10,
     "metadata": {},
     "output_type": "execute_result"
    }
   ],
   "source": [
    "l1"
   ]
  },
  {
   "cell_type": "code",
   "execution_count": null,
   "id": "f1be91db-a0b3-461f-8c01-555fdb1f0782",
   "metadata": {},
   "outputs": [],
   "source": [
    "#yaha par concept of loop:\n",
    "#while loop and for loop.\n",
    "\n"
   ]
  },
  {
   "cell_type": "code",
   "execution_count": 11,
   "id": "2cad3c5e-f663-45c3-8951-8d0d7ce49b37",
   "metadata": {},
   "outputs": [],
   "source": [
    "l= [1,2,3,4,5,3,2,1,1231,3]\n",
    "#loop kardega puura element ko, 1/1 1/1 data nikalna shuru kardega iske andar se "
   ]
  },
  {
   "cell_type": "code",
   "execution_count": 12,
   "id": "439cb704-1e0d-4863-a130-9f6f8694e346",
   "metadata": {},
   "outputs": [
    {
     "name": "stdout",
     "output_type": "stream",
     "text": [
      "1\n",
      "2\n",
      "3\n",
      "4\n",
      "5\n",
      "3\n",
      "2\n",
      "1\n",
      "1231\n",
      "3\n"
     ]
    }
   ],
   "source": [
    "for i in l: #i= temporary variable - 1/1 1/1 jo data nikalre hain.. data ko kaha rakenge? #iss iteration mein..\n",
    "    print(i) \n",
    "    #jaadu.\n",
    "    #i=8, print hogya..\n",
    "    #for puchega.. boss aur kuch data hain kya? .. nahi yaar data hogya.\n",
    "    #data khatam loop break.\n",
    "    #khud hi utna baar daudega.. run run run.. "
   ]
  },
  {
   "cell_type": "code",
   "execution_count": 14,
   "id": "acb0b1c8-85e1-4678-b18b-fa4db0725573",
   "metadata": {},
   "outputs": [
    {
     "name": "stdout",
     "output_type": "stream",
     "text": [
      "2\n",
      "3\n",
      "4\n",
      "5\n",
      "6\n",
      "4\n",
      "3\n",
      "2\n",
      "1232\n",
      "4\n"
     ]
    }
   ],
   "source": [
    "for i in l:\n",
    "    print(i+1)\n",
    "    #meku final mein list hona hain boss.. jisme ye data available hain.. main ye puure elements leke kya karu?"
   ]
  },
  {
   "cell_type": "code",
   "execution_count": 16,
   "id": "fa826ebd-0b0f-459e-ae9b-2eaba944dcfa",
   "metadata": {},
   "outputs": [
    {
     "name": "stdout",
     "output_type": "stream",
     "text": [
      "2\n",
      "3\n",
      "4\n",
      "5\n",
      "6\n",
      "4\n",
      "3\n",
      "2\n",
      "1232\n",
      "4\n"
     ]
    },
    {
     "data": {
      "text/plain": [
       "[2, 3, 4, 5, 6, 4, 3, 2, 1232, 4]"
      ]
     },
     "execution_count": 16,
     "metadata": {},
     "output_type": "execute_result"
    }
   ],
   "source": [
    "l1=[] #empty list and isme halu halu data dalenge..\n",
    "for i in l:\n",
    "    print(i+1)\n",
    "    # .extend - iterables hi dalne hain.. 1/1 interger nikalre hain..\n",
    "    l1.append(i+1)\n",
    "l1    "
   ]
  },
  {
   "cell_type": "code",
   "execution_count": 17,
   "id": "6be4a927-8bfc-4a9c-868a-d4f3e9153fa5",
   "metadata": {},
   "outputs": [
    {
     "name": "stdout",
     "output_type": "stream",
     "text": [
      "sudh\n",
      "kumar\n",
      "pwskills\n",
      "course\n"
     ]
    }
   ],
   "source": [
    "l= ['sudh','kumar','pwskills','course']\n",
    "#upper case mein conveert karke merko final list do\n",
    "for i in l:\n",
    "    print(i)\n",
    "    "
   ]
  },
  {
   "cell_type": "code",
   "execution_count": 18,
   "id": "491e10df-312f-4522-89c8-6517c6e1d119",
   "metadata": {},
   "outputs": [
    {
     "name": "stdout",
     "output_type": "stream",
     "text": [
      "sudh\n",
      "kumar\n",
      "pwskills\n",
      "course\n"
     ]
    },
    {
     "data": {
      "text/plain": [
       "['SUDH', 'KUMAR', 'PWSKILLS', 'COURSE']"
      ]
     },
     "execution_count": 18,
     "metadata": {},
     "output_type": "execute_result"
    }
   ],
   "source": [
    "# data nikal gaya na 1/1, i mera har baar str aa raha hain\n",
    "l1=[]\n",
    "for i in l:\n",
    "    print(i)\n",
    "    l1.append(i.upper())\n",
    "l1"
   ]
  },
  {
   "cell_type": "code",
   "execution_count": 19,
   "id": "a74f0d13-1cb4-45b9-9e10-f54208b96f56",
   "metadata": {},
   "outputs": [],
   "source": [
    "l =[1,2,3,4,4,'sudh','kumar',324,24.3443,'abc']"
   ]
  },
  {
   "cell_type": "code",
   "execution_count": 20,
   "id": "b9348d80-f751-4047-9a2a-902d19f958cb",
   "metadata": {},
   "outputs": [],
   "source": [
    "# 2 separate separate lists (data) banana hain : ek mein hona chahiye only int, ek mein only str.\n",
    "l1_num = []\n",
    "l2_str = []\n",
    "#ek ek karke data ke paas jayenge\n",
    "for i in l: #aap jao list ke paas \n",
    "    #agar jo value nikala udhar se, vo numeric hain toh l1 mein daldo nai toh l2 mein\n",
    "    if ((type(i) == int) or (type(i) == float)) : #chalo append kardo\n",
    "        l1_num.append(i) #i - hamesha current value hold karta hain.\n",
    "    else : #agar num nahi hain toh l2 mein append kardo\n",
    "        l2_str.append(i)"
   ]
  },
  {
   "cell_type": "code",
   "execution_count": 23,
   "id": "470df6ad-a7a3-4d6b-864d-a3fa9cfcbbeb",
   "metadata": {},
   "outputs": [
    {
     "data": {
      "text/plain": [
       "[1, 2, 3, 4, 4, 324, 24.3443]"
      ]
     },
     "execution_count": 23,
     "metadata": {},
     "output_type": "execute_result"
    }
   ],
   "source": [
    "l1_num"
   ]
  },
  {
   "cell_type": "code",
   "execution_count": 22,
   "id": "ddd84863-b5b6-4a1d-8830-ee4a18a5ad07",
   "metadata": {},
   "outputs": [
    {
     "data": {
      "text/plain": [
       "['sudh', 'kumar', 'abc']"
      ]
     },
     "execution_count": 22,
     "metadata": {},
     "output_type": "execute_result"
    }
   ],
   "source": [
    "l2_str"
   ]
  },
  {
   "cell_type": "code",
   "execution_count": null,
   "id": "114ea222-d2fe-403a-89d0-0e004f2a14d4",
   "metadata": {},
   "outputs": [],
   "source": [
    "''' hogya objective puura.\n",
    " code jab aap likte ho na, tab ham aise hi likna shuru karte hain,\n",
    " usko na ham aise todte hain,\n",
    " step/step 1 2 3 \n",
    " just like story \n",
    " beautiful story\n",
    " even for complex code\n",
    " just like beautiful story\n",
    " mast writer ban jao ge, tab mast maza aayega\n",
    " practice and patience lagake rakho..Inshaallah mast writer banoge'''"
   ]
  },
  {
   "cell_type": "markdown",
   "id": "d2d77732-aeab-4fb2-865f-0e9a3d1adadb",
   "metadata": {},
   "source": [
    "100 + problems/samples (for, if, while) (dance dance dance emoji in background)\n",
    "1. assignments too - practice karne"
   ]
  },
  {
   "cell_type": "code",
   "execution_count": null,
   "id": "d2cb1302-be61-48e8-97eb-6c8c54382d10",
   "metadata": {},
   "outputs": [],
   "source": [
    "#assignment questions - mixture of padhaya and un padhaya gaya questions\n",
    "#programming mein its not like fixed concept\n",
    "## its exploring\n",
    "# permutations and combinations\n",
    "# jitna aap explore karoge utna aapko aata hain\n",
    "# jitna experience karoge, varities and dynamics dekhoge.. aap ko pata chalega \n",
    "## explore explore explore - isliye class mein jo nahi bataya hain, vo bhi assignment mein rehta\n",
    "## we are not preparing for any clg exam\n",
    "## but to build and lead "
   ]
  },
  {
   "cell_type": "code",
   "execution_count": null,
   "id": "28154e42-c9f5-4925-a770-feee31e5f9dd",
   "metadata": {},
   "outputs": [],
   "source": [
    "#assignment link - github ka."
   ]
  }
 ],
 "metadata": {
  "kernelspec": {
   "display_name": "Python 3 (ipykernel)",
   "language": "python",
   "name": "python3"
  },
  "language_info": {
   "codemirror_mode": {
    "name": "ipython",
    "version": 3
   },
   "file_extension": ".py",
   "mimetype": "text/x-python",
   "name": "python",
   "nbconvert_exporter": "python",
   "pygments_lexer": "ipython3",
   "version": "3.10.8"
  }
 },
 "nbformat": 4,
 "nbformat_minor": 5
}
